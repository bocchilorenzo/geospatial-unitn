{
 "cells": [
  {
   "attachments": {},
   "cell_type": "markdown",
   "metadata": {},
   "source": [
    "The \"15 minute city\" is a concept first proposed by Franco-Colombian urbanist Carlos Moreno in 2016 which aims to inspire the creation of cities that are more accessible for humans. In particular, Moreno's version of the 15 minute city is centered around the idea that urban residents should be able to access all of their basic essentials at distances that would not take them more than 15 minutes by foot or by bicycle (https://www.mdpi.com/2624-6511/4/1/6). The six essential social functions that should be satisfied are:\n",
    "- living\n",
    "- working\n",
    "- commerce\n",
    "- healthcare\n",
    "- education\n",
    "- entertainment\n",
    "\n",
    "To attain those functions, the urban landscape should be built, in case of new cities, or modified, for the existing ones, according to four different components:\n",
    "- density\n",
    "- proximity\n",
    "- diversity\n",
    "- digitalization\n",
    "\n",
    "Although some have criticized the idea (https://www.bloomberg.com/news/articles/2021-03-02/the-downsides-of-a-15-minute-city, https://www.weforum.org/agenda/2022/03/15-minute-city-stickiness/), so far it has been tested in multiple places around the world with varying degrees of success (https://en.wikipedia.org/wiki/15-minute_city).\n",
    "\n",
    "In this analysis, we will try to apply the concept to the city of Bologna. The city centre is one of the oldest in Europe, dating back to the 2nd century BC, and is known for peculiar architectural structures called \"portici\", which are sort of corridors under houses which allow people to walk around the city without being affected rain, direct sunlight or other annoying weather conditions.\n",
    "\n",
    "During the analysis, the accessibility of various different amenities from different parts of the city will be explored."
   ]
  }
 ],
 "metadata": {
  "kernelspec": {
   "display_name": "geospatial",
   "language": "python",
   "name": "python3"
  },
  "language_info": {
   "codemirror_mode": {
    "name": "ipython",
    "version": 3
   },
   "file_extension": ".py",
   "mimetype": "text/x-python",
   "name": "python",
   "nbconvert_exporter": "python",
   "pygments_lexer": "ipython3",
   "version": "3.9.15 (main, Nov 24 2022, 14:39:17) [MSC v.1916 64 bit (AMD64)]"
  },
  "orig_nbformat": 4,
  "vscode": {
   "interpreter": {
    "hash": "0fa4a2878d42c7938c8ffa92727fb09f2820c76dbf44b419511e3eaea6f810c2"
   }
  }
 },
 "nbformat": 4,
 "nbformat_minor": 2
}
