{
 "cells": [
  {
   "attachments": {},
   "cell_type": "markdown",
   "metadata": {},
   "source": [
    "Before beginning the analysis, we need to download the data. For this project, we will use data exclusively from the open data portal of the Municipality of Bologna:\n",
    "\n",
    "- https://opendata.comune.bologna.it/explore/dataset/dati_open_street/\n",
    "- https://opendata.comune.bologna.it/explore/dataset/aree-statistiche\n",
    "- https://opendata.comune.bologna.it/explore/dataset/popolazione-residente-per-stato-civile-per-quartiere-zona-area-statistica-serie-/\n",
    "\n",
    "The first link contains data downloaded from [OpenStreetMap](https://openstreetmap.org). It was uploaded on 09 December 2022 and pre packaged in a single GeoJSON file. Since no further information about the period of download was given, we use the upload of the dataset as reference and assume it is recent.\n",
    "\n",
    "The second link contains a division of the city in 90 statistical areas. As it says in the description, \"the subdivision of the municipality in 90 statistical areas answers the need to define a finer reading 'grid' compared to the traditional subdivision of Bologna in neighborhoods or areas, and at the same time sufficiently brief with respect to the highly parceled out census sections\". Once again, the file is a GeoJSON. The data was uploaded on 13 June 2022 and the update frequency is listed as \"irregular\". Even if it hasn't actually been updated since, it can still be considered as recent enough for the purpose of this project.\n",
    "\n",
    "The third link gives us the number of people living in a statistical area grouped by their civil status. Again, the file is a GeoJSON. The dataset was first uploaded on 2 September 2020 and last updated on 12 May 2022. Since the date is very close to the last update of the statistical subdivision, we can assume the two datasets are compatible with each other."
   ]
  },
  {
   "cell_type": "code",
   "execution_count": null,
   "metadata": {},
   "outputs": [],
   "source": [
    "import urllib.request as req\n",
    "from os import makedirs\n",
    "\n",
    "makedirs(\"../dataset\", exist_ok=True)\n",
    "makedirs(\"../images\", exist_ok=True)\n",
    "\n",
    "url = \"https://opendata.comune.bologna.it/explore/dataset/dati_open_street/download/?format=geojson&timezone=UTC&lang=it\"\n",
    "req.urlretrieve(url, \"../dataset/dati_open_street.geojson\")\n",
    "\n",
    "url = \"https://opendata.comune.bologna.it/explore/dataset/popolazione-residente-per-stato-civile-per-quartiere-zona-area-statistica-serie-/download/?format=geojson&timezone=Europe/Rome&lang=it\"\n",
    "req.urlretrieve(url, \"../dataset/popolazione-residente-per-stato-civile-per-quartiere-zona-area-statistica-serie-.geojson\")\n",
    "\n",
    "url = \"https://opendata.comune.bologna.it/explore/dataset/aree-statistiche/download/?format=geojson&timezone=Europe/Rome&lang=it\"\n",
    "req.urlretrieve(url, \"../dataset/aree-statistiche.geojson\")"
   ]
  },
  {
   "attachments": {},
   "cell_type": "markdown",
   "metadata": {},
   "source": [
    "Before proceeding, we can also install the relevant libraries. You can skip this if you already installed them.\n",
    "\n",
    "It's strongly recommended to install geoplot through conda, and the other dependencies with pip:"
   ]
  },
  {
   "cell_type": "code",
   "execution_count": null,
   "metadata": {},
   "outputs": [],
   "source": [
    "%conda install -c conda-forge geoplot=0.5.1 -y\n",
    "%pip install osmnx==1.3.0\n",
    "%pip install walkscore-api==1.0.1\n",
    "%pip install python-dotenv==0.21.0\n",
    "%pip install libpysal==4.7.0"
   ]
  },
  {
   "attachments": {},
   "cell_type": "markdown",
   "metadata": {},
   "source": [
    "Otherwise, you can use pip for all:"
   ]
  },
  {
   "cell_type": "code",
   "execution_count": null,
   "metadata": {},
   "outputs": [],
   "source": [
    "%pip install geoplot==0.5.1\n",
    "%pip install geopandas==0.12.2\n",
    "%pip install contextily==1.2.0\n",
    "%pip install pandas==1.5.2\n",
    "%pip install scipy==1.10.0\n",
    "%pip install matplotlib==3.6.2\n",
    "%pip install mapclassify==2.5.0\n",
    "%pip install seaborn==0.12.2\n",
    "%pip install networkx==3.0\n",
    "%pip install scikit-learn==1.2.0\n",
    "%pip install geopy==2.3.0\n",
    "%pip install numpy==1.24.1\n",
    "%pip install osmnx==1.3.0\n",
    "%pip install walkscore-api==1.0.1\n",
    "%pip install python-dotenv==0.21.0\n",
    "%pip install libpysal==4.7.0"
   ]
  }
 ],
 "metadata": {
  "kernelspec": {
   "display_name": "geospatial2",
   "language": "python",
   "name": "python3"
  },
  "language_info": {
   "codemirror_mode": {
    "name": "ipython",
    "version": 3
   },
   "file_extension": ".py",
   "mimetype": "text/x-python",
   "name": "python",
   "nbconvert_exporter": "python",
   "pygments_lexer": "ipython3",
   "version": "3.9.15"
  },
  "orig_nbformat": 4,
  "vscode": {
   "interpreter": {
    "hash": "6073ce0f61064a2f923c95cd75ce08613bce37e80e83d7f69e32e3ee921484ac"
   }
  }
 },
 "nbformat": 4,
 "nbformat_minor": 2
}
